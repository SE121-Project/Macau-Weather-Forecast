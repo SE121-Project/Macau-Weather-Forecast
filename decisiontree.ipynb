{
 "cells": [
  {
   "cell_type": "code",
   "execution_count": 159,
   "id": "852732bb",
   "metadata": {},
   "outputs": [],
   "source": [
    "import pandas as pd\n",
    "from sklearn.metrics import accuracy_score\n",
    "from sklearn.model_selection import train_test_split\n",
    "from sklearn.tree import DecisionTreeClassifier\n",
    "from matplotlib import pyplot as plt"
   ]
  },
  {
   "cell_type": "code",
   "execution_count": 160,
   "id": "a57ed56e",
   "metadata": {},
   "outputs": [],
   "source": [
    "missing_values = [\"--\"]"
   ]
  },
  {
   "cell_type": "code",
   "execution_count": 161,
   "id": "850aaaaa",
   "metadata": {},
   "outputs": [],
   "source": [
    "data = pd.read_csv('./macau_weather.csv', na_values = missing_values)"
   ]
  },
  {
   "cell_type": "code",
   "execution_count": 162,
   "id": "d249105f",
   "metadata": {},
   "outputs": [
    {
     "data": {
      "text/html": [
       "<div>\n",
       "<style scoped>\n",
       "    .dataframe tbody tr th:only-of-type {\n",
       "        vertical-align: middle;\n",
       "    }\n",
       "\n",
       "    .dataframe tbody tr th {\n",
       "        vertical-align: top;\n",
       "    }\n",
       "\n",
       "    .dataframe thead th {\n",
       "        text-align: right;\n",
       "    }\n",
       "</style>\n",
       "<table border=\"1\" class=\"dataframe\">\n",
       "  <thead>\n",
       "    <tr style=\"text-align: right;\">\n",
       "      <th></th>\n",
       "      <th>num</th>\n",
       "      <th>date</th>\n",
       "      <th>air_pressure</th>\n",
       "      <th>high_tem</th>\n",
       "      <th>aver_tem</th>\n",
       "      <th>low_tem</th>\n",
       "      <th>relative_humidity</th>\n",
       "      <th>sunlight_time</th>\n",
       "      <th>wind_direction</th>\n",
       "      <th>wind_speed</th>\n",
       "      <th>rain_accumulation</th>\n",
       "    </tr>\n",
       "  </thead>\n",
       "  <tbody>\n",
       "    <tr>\n",
       "      <th>0</th>\n",
       "      <td>1</td>\n",
       "      <td>2020/10/1</td>\n",
       "      <td>1009.5</td>\n",
       "      <td>26.9</td>\n",
       "      <td>25.8</td>\n",
       "      <td>24.6</td>\n",
       "      <td>83</td>\n",
       "      <td>0.2</td>\n",
       "      <td>90.0</td>\n",
       "      <td>16.0</td>\n",
       "      <td>7.6</td>\n",
       "    </tr>\n",
       "    <tr>\n",
       "      <th>1</th>\n",
       "      <td>2</td>\n",
       "      <td>2020/10/2</td>\n",
       "      <td>1010.9</td>\n",
       "      <td>28.8</td>\n",
       "      <td>26.7</td>\n",
       "      <td>25.5</td>\n",
       "      <td>76</td>\n",
       "      <td>6.6</td>\n",
       "      <td>90.0</td>\n",
       "      <td>14.0</td>\n",
       "      <td>0.0</td>\n",
       "    </tr>\n",
       "    <tr>\n",
       "      <th>2</th>\n",
       "      <td>3</td>\n",
       "      <td>2020/10/3</td>\n",
       "      <td>1011.5</td>\n",
       "      <td>29.5</td>\n",
       "      <td>27.2</td>\n",
       "      <td>25.6</td>\n",
       "      <td>79</td>\n",
       "      <td>9.2</td>\n",
       "      <td>90.0</td>\n",
       "      <td>10.0</td>\n",
       "      <td>0.0</td>\n",
       "    </tr>\n",
       "    <tr>\n",
       "      <th>3</th>\n",
       "      <td>4</td>\n",
       "      <td>2020/10/4</td>\n",
       "      <td>1010.3</td>\n",
       "      <td>32.0</td>\n",
       "      <td>27.8</td>\n",
       "      <td>25.9</td>\n",
       "      <td>78</td>\n",
       "      <td>9.3</td>\n",
       "      <td>202.5</td>\n",
       "      <td>7.0</td>\n",
       "      <td>0.0</td>\n",
       "    </tr>\n",
       "    <tr>\n",
       "      <th>4</th>\n",
       "      <td>5</td>\n",
       "      <td>2020/10/5</td>\n",
       "      <td>1011.3</td>\n",
       "      <td>30.5</td>\n",
       "      <td>26.9</td>\n",
       "      <td>24.8</td>\n",
       "      <td>83</td>\n",
       "      <td>2.7</td>\n",
       "      <td>90.0</td>\n",
       "      <td>12.0</td>\n",
       "      <td>3.6</td>\n",
       "    </tr>\n",
       "  </tbody>\n",
       "</table>\n",
       "</div>"
      ],
      "text/plain": [
       "   num       date  air_pressure  high_tem  aver_tem  low_tem  \\\n",
       "0    1  2020/10/1        1009.5      26.9      25.8     24.6   \n",
       "1    2  2020/10/2        1010.9      28.8      26.7     25.5   \n",
       "2    3  2020/10/3        1011.5      29.5      27.2     25.6   \n",
       "3    4  2020/10/4        1010.3      32.0      27.8     25.9   \n",
       "4    5  2020/10/5        1011.3      30.5      26.9     24.8   \n",
       "\n",
       "   relative_humidity  sunlight_time  wind_direction  wind_speed  \\\n",
       "0                 83            0.2            90.0        16.0   \n",
       "1                 76            6.6            90.0        14.0   \n",
       "2                 79            9.2            90.0        10.0   \n",
       "3                 78            9.3           202.5         7.0   \n",
       "4                 83            2.7            90.0        12.0   \n",
       "\n",
       "   rain_accumulation  \n",
       "0                7.6  \n",
       "1                0.0  \n",
       "2                0.0  \n",
       "3                0.0  \n",
       "4                3.6  "
      ]
     },
     "execution_count": 162,
     "metadata": {},
     "output_type": "execute_result"
    }
   ],
   "source": [
    "data.head()"
   ]
  },
  {
   "cell_type": "code",
   "execution_count": 163,
   "id": "d18762b1",
   "metadata": {},
   "outputs": [],
   "source": [
    "data[data.isnull().any(axis=1)].head()\n",
    "before_rows = data.shape[0]"
   ]
  },
  {
   "cell_type": "code",
   "execution_count": 164,
   "id": "3cab5a18",
   "metadata": {},
   "outputs": [],
   "source": [
    "data = data.dropna()"
   ]
  },
  {
   "cell_type": "code",
   "execution_count": 167,
   "id": "8b765181",
   "metadata": {},
   "outputs": [
    {
     "data": {
      "image/png": "[encoded data removed]",
      "text/plain": [
       "<Figure size 432x288 with 1 Axes>"
      ]
     },
     "metadata": {},
     "output_type": "display_data"
    }
   ],
   "source": [
    "after_rows = data.shape[0]\n",
    "adp = after_rows/before_rows*100\n",
    "edp = (before_rows - after_rows)/before_rows *100\n",
    "labels = ['available data','Empty data']\n",
    "sizes = [adp, edp]\n",
    "explode = (0,0)\n",
    "plt.pie(sizes,explode=explode,labels=labels,autopct='%1.1f%%',shadow=False,startangle=150)\n",
    "plt.title(\"Percentage of available data\")\n",
    "plt.show()"
   ]
  },
  {
   "cell_type": "code",
   "execution_count": 139,
   "id": "01e329aa",
   "metadata": {},
   "outputs": [
    {
     "data": {
      "text/plain": [
       "0    1\n",
       "1    0\n",
       "2    0\n",
       "3    0\n",
       "4    1\n",
       "Name: rain_accumulation, dtype: int32"
      ]
     },
     "execution_count": 139,
     "metadata": {},
     "output_type": "execute_result"
    }
   ],
   "source": [
    "clean_data = data.copy()\n",
    "clean_data['rain_accumulation'] = (clean_data['rain_accumulation']>1) *1\n",
    "clean_data['rain_accumulation'].head()"
   ]
  },
  {
   "cell_type": "code",
   "execution_count": 140,
   "id": "0cbbbb4f",
   "metadata": {},
   "outputs": [
    {
     "data": {
      "text/html": [
       "<div>\n",
       "<style scoped>\n",
       "    .dataframe tbody tr th:only-of-type {\n",
       "        vertical-align: middle;\n",
       "    }\n",
       "\n",
       "    .dataframe tbody tr th {\n",
       "        vertical-align: top;\n",
       "    }\n",
       "\n",
       "    .dataframe thead th {\n",
       "        text-align: right;\n",
       "    }\n",
       "</style>\n",
       "<table border=\"1\" class=\"dataframe\">\n",
       "  <thead>\n",
       "    <tr style=\"text-align: right;\">\n",
       "      <th></th>\n",
       "      <th>rain_accumulation</th>\n",
       "    </tr>\n",
       "  </thead>\n",
       "  <tbody>\n",
       "    <tr>\n",
       "      <th>0</th>\n",
       "      <td>1</td>\n",
       "    </tr>\n",
       "    <tr>\n",
       "      <th>1</th>\n",
       "      <td>0</td>\n",
       "    </tr>\n",
       "    <tr>\n",
       "      <th>2</th>\n",
       "      <td>0</td>\n",
       "    </tr>\n",
       "    <tr>\n",
       "      <th>3</th>\n",
       "      <td>0</td>\n",
       "    </tr>\n",
       "    <tr>\n",
       "      <th>4</th>\n",
       "      <td>1</td>\n",
       "    </tr>\n",
       "  </tbody>\n",
       "</table>\n",
       "</div>"
      ],
      "text/plain": [
       "   rain_accumulation\n",
       "0                  1\n",
       "1                  0\n",
       "2                  0\n",
       "3                  0\n",
       "4                  1"
      ]
     },
     "execution_count": 140,
     "metadata": {},
     "output_type": "execute_result"
    }
   ],
   "source": [
    "y = clean_data[['rain_accumulation']].copy()\n",
    "y.head()"
   ]
  },
  {
   "cell_type": "code",
   "execution_count": 141,
   "id": "80cca975",
   "metadata": {},
   "outputs": [],
   "source": [
    "morning_features = ['air_pressure', 'aver_tem', 'relative_humidity',\n",
    "       'sunlight_time', 'wind_direction', 'wind_speed']"
   ]
  },
  {
   "cell_type": "code",
   "execution_count": 142,
   "id": "80646ff2",
   "metadata": {},
   "outputs": [
    {
     "data": {
      "text/plain": [
       "Index(['air_pressure', 'aver_tem', 'relative_humidity', 'sunlight_time',\n",
       "       'wind_direction', 'wind_speed'],\n",
       "      dtype='object')"
      ]
     },
     "execution_count": 142,
     "metadata": {},
     "output_type": "execute_result"
    }
   ],
   "source": [
    "x=clean_data[morning_features].copy()\n",
    "x.columns"
   ]
  },
  {
   "cell_type": "code",
   "execution_count": 143,
   "id": "d20d51ea",
   "metadata": {},
   "outputs": [],
   "source": [
    "X_train,X_test,y_train,y_test = train_test_split(x,y,test_size=0.33,random_state=324)"
   ]
  },
  {
   "cell_type": "code",
   "execution_count": 144,
   "id": "fd1b4706",
   "metadata": {},
   "outputs": [
    {
     "data": {
      "text/plain": [
       "DecisionTreeClassifier(max_leaf_nodes=10, random_state=0)"
      ]
     },
     "execution_count": 144,
     "metadata": {},
     "output_type": "execute_result"
    }
   ],
   "source": [
    "humidity_classifier = DecisionTreeClassifier(max_leaf_nodes=10,random_state=0)\n",
    "humidity_classifier.fit(X_train,y_train)"
   ]
  },
  {
   "cell_type": "code",
   "execution_count": 145,
   "id": "49a9d6e6",
   "metadata": {},
   "outputs": [],
   "source": [
    "y_predicted = humidity_classifier.predict(X_test)"
   ]
  },
  {
   "cell_type": "code",
   "execution_count": 222,
   "id": "31dc9f2d",
   "metadata": {
    "scrolled": true
   },
   "outputs": [
    {
     "data": {
      "image/png": "[encoded data removed]",
      "text/plain": [
       "<Figure size 720x360 with 1 Axes>"
      ]
     },
     "metadata": {
      "needs_background": "light"
     },
     "output_type": "display_data"
    }
   ],
   "source": [
    "plt.figure(figsize=(10,5))\n",
    "x = y_test.index\n",
    "y = y_test[['rain_accumulation']]\n",
    "x2 = y_test.index\n",
    "y2 = y_predicted\n",
    "plt.xlim(0,400)\n",
    "plt.ylim(-0.5,1.5)\n",
    "plt.scatter(x, y,label=\"practical\",s =5)\n",
    "plt.scatter(x2, y2,color = 'red',label=\"predicted\",s =5)\n",
    "plt.xlabel(\"no. of sample\")\n",
    "plt.ylabel(\"Whether it rains\")\n",
    "plt.legend()\n",
    "plt.show()"
   ]
  },
  {
   "cell_type": "code",
   "execution_count": 209,
   "id": "aef93f81",
   "metadata": {},
   "outputs": [
    {
     "data": {
      "image/png": "[encoded data removed]",
      "text/plain": [
       "<Figure size 432x288 with 1 Axes>"
      ]
     },
     "metadata": {},
     "output_type": "display_data"
    }
   ],
   "source": [
    "acc = accuracy_score(y_test,y_predicted)*100\n",
    "labels = ['right','error']\n",
    "sizes = [acc, 100-acc]\n",
    "explode = (0,0)\n",
    "plt.pie(sizes,explode=explode,labels=labels,autopct='%1.1f%%',shadow=False,startangle=150)\n",
    "plt.title(\"Accuracy of predicted\")\n",
    "plt.show()"
   ]
  },
  {
   "cell_type": "code",
   "execution_count": null,
   "id": "9a80db58",
   "metadata": {},
   "outputs": [],
   "source": []
  }
 ],
 "metadata": {
  "kernelspec": {
   "display_name": "Python 3 (ipykernel)",
   "language": "python",
   "name": "python3"
  },
  "language_info": {
   "codemirror_mode": {
    "name": "ipython",
    "version": 3
   },
   "file_extension": ".py",
   "mimetype": "text/x-python",
   "name": "python",
   "nbconvert_exporter": "python",
   "pygments_lexer": "ipython3",
   "version": "3.9.7"
  }
 },
 "nbformat": 4,
 "nbformat_minor": 5
}
